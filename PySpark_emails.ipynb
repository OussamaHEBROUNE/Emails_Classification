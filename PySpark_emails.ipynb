{
  "nbformat": 4,
  "nbformat_minor": 0,
  "metadata": {
    "colab": {
      "name": "Big_Data_Proj_IK_OH.ipynb",
      "provenance": [],
      "collapsed_sections": [
        "TL4hSHmis6aT",
        "i_W_2FiX5hFs",
        "MRIiVIEWJ0Sj"
      ]
    },
    "kernelspec": {
      "name": "python3",
      "display_name": "Python 3"
    }
  },
  "cells": [
    {
      "cell_type": "markdown",
      "metadata": {
        "id": "1f3p_S4DLGzt"
      },
      "source": [
        "<span style=\"color:red\">**Membres du groupe / emails**</span> \n",
        "- (1) Imed KERAGHEL : keraghel.imed19@gmail.com\n",
        "- (2) Oussama HEBROUNE : oussamaheb@gmail.com\n"
      ]
    },
    {
      "cell_type": "markdown",
      "metadata": {
        "id": "TL4hSHmis6aT"
      },
      "source": [
        "## 1. Introduction\n",
        "Dans le cadre du Master 2 MLDS (promotion 2020-2021) de l’université de Paris, il nous a été demandé, lors du cours **Big Data**, d’étudier un jeu de données en utilisant l'APIs d’Apache Spark, aﬁn de tester quelques approches de Clustring. Plus particulièrement, nous utiliserons Spark SQL qui permet de travailler avec des DataFrames, ainsi que Spark MLlib qui permet d’utiliser des fonctionnalités de Machine Learning. Ce projet consiste à regrouper des documents textuels tel que les\n",
        "documents qui partagent la même thématique se retrouvent dans le même groupe, et les documents qui portent sur des sujets très différents se trouvent dans des groupes différents."
      ]
    },
    {
      "cell_type": "markdown",
      "metadata": {
        "id": "WUwiXuAzOBq3"
      },
      "source": [
        "## 2. Mise en place de l’environnement de travail\n"
      ]
    },
    {
      "cell_type": "code",
      "metadata": {
        "id": "mjdVw08MKTnT"
      },
      "source": [
        "%%capture\r\n",
        "\r\n",
        "# Installer java8\r\n",
        "!apt-get install openjdk-8-jdk-headless -qq > /dev/null\r\n",
        "\r\n",
        "# Télécharger Spark (la version 3.0.2)\r\n",
        "!wget -q https://downloads.apache.org/spark/spark-3.0.2/spark-3.0.2-bin-hadoop2.7.tgz\r\n",
        "\r\n",
        "# Dézipper le fichier déjà télécharger\r\n",
        "!tar xf spark-3.0.2-bin-hadoop2.7.tgz\r\n",
        "\r\n",
        "# Installer findspark \r\n",
        "!pip install -q findspark\r\n",
        "\r\n",
        "# Mettre en place les variables d'environnement nécessaires\r\n",
        "import os\r\n",
        "os.environ[\"JAVA_HOME\"] = \"/usr/lib/jvm/java-8-openjdk-amd64\"\r\n",
        "os.environ[\"SPARK_HOME\"] = \"/content/spark-3.0.2-bin-hadoop2.7\"\r\n",
        "os.environ['PYSPARK_SUBMIT_ARGS'] = '--packages org.apache.spark:spark-avro_2.12:3.0.1 pyspark-shell'\r\n",
        "\r\n",
        "import findspark\r\n",
        "findspark.init(\"spark-3.0.2-bin-hadoop2.7\")"
      ],
      "execution_count": 1,
      "outputs": []
    },
    {
      "cell_type": "code",
      "metadata": {
        "id": "h4F82kVAKy2V"
      },
      "source": [
        "%%capture\r\n",
        "\r\n",
        "# Pour utiliser l'API RDD, utiliser l'objet sc\r\n",
        "from pyspark import SparkContext, SparkConf\r\n",
        "conf = SparkConf().setAppName(\"mon application\").setMaster(\"local[4]\")\r\n",
        "sc = SparkContext(conf=conf)\r\n",
        "\r\n",
        "# Pour utiliser l'API Spark SQL, utiliser l'objet spark\r\n",
        "from pyspark.sql import SparkSession, Row\r\n",
        "spark = SparkSession.builder.config(conf=conf).getOrCreate()"
      ],
      "execution_count": 2,
      "outputs": []
    },
    {
      "cell_type": "markdown",
      "metadata": {
        "id": "XcAOGPyZORq1"
      },
      "source": [
        "# 3. Préparation de données\n",
        "\n",
        "Comme dans tous les problèmes d’apprentissage automatique, l’entrainement et l’évaluation d’un modèle s’effectue au moyen d’un ensemble de données comportant des exemples déjà labelisés. Dans notre cas, nous travaillons sur le dataset **20Newsgroups**. Il s'agit d'est une collection d’environ 20 000 documents de groupe de discussion, partitionnés de manière presque égale sur 20 groupes de discussion. Nous avons utilisé **deux classes** parmi les vingt classes qui constituent en réalité le dataset.\n",
        "\n",
        "La première étape de ce travail consiste à récupérer ce jeu de données (en format brut), et de réaliser ensuite, ce qu’on appelle le **Data Wrangling**, aussi appelé préparation de données en Self-Service, ce dernier est le processus qui permet, à partir des données brutes de les découvrir, structurer, nettoyer, valider et de publier les résultats dans un format adapté à l’analyse des données.\n",
        "\n",
        "Dans un premier temps, nous avons inspecté les ﬁchiers fournis aﬁn de découvrir les structures, les contenus et la qualité des données brutes. Le but était de voir et de comprendre la nature des données avant de les manipuler. Après, nous avons réalisé l’étape de la transformation des données. L’objectif était de ranger les données dans un format structuré (spark DataFrame). Vu la taille de données, nous nous sommes limités aux deux classes : *alt.atheism* et *rec.sport.baseball*.\n",
        "\n"
      ]
    },
    {
      "cell_type": "markdown",
      "metadata": {
        "id": "4RMXaxqy0pHP"
      },
      "source": [
        "### a, b. Téléchargement et décompression de données"
      ]
    },
    {
      "cell_type": "code",
      "metadata": {
        "id": "H88K3vEGN9Dy"
      },
      "source": [
        "# download data\r\n",
        "!wget -q http://qwone.com/~jason/20Newsgroups/20news-19997.tar.gz\r\n",
        "\r\n",
        "# unzip it\r\n",
        "!tar xf 20news-19997.tar.gz"
      ],
      "execution_count": 3,
      "outputs": []
    },
    {
      "cell_type": "markdown",
      "metadata": {
        "id": "-3PInpbE05P1"
      },
      "source": [
        "### c. Charger les données dans deux variables de type RDD"
      ]
    },
    {
      "cell_type": "code",
      "metadata": {
        "id": "k7XIOq4yOlBe"
      },
      "source": [
        "rdd_atheism = sc.wholeTextFiles(\"/content/20_newsgroups/alt.atheism/*\")\r\n",
        "rdd_baseball = sc.wholeTextFiles(\"/content/20_newsgroups/rec.sport.baseball/*\")"
      ],
      "execution_count": 4,
      "outputs": []
    },
    {
      "cell_type": "markdown",
      "metadata": {
        "id": "XAbabuhL1AAA"
      },
      "source": [
        "### d. Séparer le corps du message de l’entête."
      ]
    },
    {
      "cell_type": "code",
      "metadata": {
        "id": "73Qcnx9KsNCs"
      },
      "source": [
        "def head_body_split(s):\r\n",
        "    \"\"\"\r\n",
        "    Une fonction qui permet de séparer le corps du message de l’entête\r\n",
        "    \"\"\"\r\n",
        "    # Utilisation de try except : certains messages ne comportent pas la lignes (Lines ...)\r\n",
        "    try:\r\n",
        "        a = s[1].find('Lines')\r\n",
        "        lines = int(s[1][a+7:a+12].split()[0])\r\n",
        "        h = s[1].count('\\n') - lines\r\n",
        "        return s[0], s[1].rsplit('\\n')[:h], s[1].rsplit('\\n')[h + 1:]\r\n",
        "    except:\r\n",
        "        splits = s[1].split('\\n\\n',1)\r\n",
        "        return s[0], splits[0], splits[1]\r\n",
        "\r\n",
        "# Appliquer la fonction head_body_split() sur les RDDs\r\n",
        "rdd_atheism = rdd_atheism.map(head_body_split)\r\n",
        "rdd_baseball = rdd_baseball.map(head_body_split)"
      ],
      "execution_count": 5,
      "outputs": []
    },
    {
      "cell_type": "markdown",
      "metadata": {
        "id": "efBz8M871OY-"
      },
      "source": [
        "### e. Extraire quelques champs de l’entête"
      ]
    },
    {
      "cell_type": "code",
      "metadata": {
        "id": "kilOpvZLIHtH"
      },
      "source": [
        "def fields(f):\r\n",
        "    s = f[1]\r\n",
        "    key = f[0]\r\n",
        "    Category= ''; From = ''; Message_ID = ''; Subject = ''; Organization = ''; References = ''; Date = ''; Sender = ''; Reply_To = '';\r\n",
        "    for l in range(len(s)):\r\n",
        "        Category = key[28:].split('/')[0]\r\n",
        "        Key = key[28:].split('/')[1]\r\n",
        "        if s[l][:4] == 'From':\r\n",
        "            From = s[l][6:]\r\n",
        "        if s[l][:10] == 'Message-ID':\r\n",
        "            Message_ID = s[l][12:]\r\n",
        "        if s[l][:7] == 'Subject':\r\n",
        "            Subject = s[l][9:]\r\n",
        "        if s[l][:12] == 'Organization':\r\n",
        "            Organization = s[l][14:]\r\n",
        "        if s[l][:10] == 'References':\r\n",
        "            References = s[l][12:]\r\n",
        "        if s[l][:4] == 'Date':\r\n",
        "            Date = s[l][6:]\r\n",
        "        if s[l][:6] == 'Sender':\r\n",
        "            Sender = s[l][8:]\r\n",
        "        if s[l][:8] == 'Reply-To':\r\n",
        "            Reply_To = s[l][10:]\r\n",
        "    Body = ' '.join(f[2])\r\n",
        "    return Key, Category, From, Message_ID, Subject, Organization, References, Date, Sender, Reply_To, Body\r\n",
        "\r\n",
        "# Appliquer la fonction fields() sur les RDDs\r\n",
        "rdd_atheism = rdd_atheism.map(fields)\r\n",
        "rdd_baseball = rdd_baseball.map(fields)"
      ],
      "execution_count": 6,
      "outputs": []
    },
    {
      "cell_type": "markdown",
      "metadata": {
        "id": "0Jwu-rOU1WcD"
      },
      "source": [
        "### f. Fusionner les deux RDD"
      ]
    },
    {
      "cell_type": "markdown",
      "metadata": {
        "id": "M9rEPQeiAGmd"
      },
      "source": [
        "La fonction *union()* permet de fusionner 2 RDDs"
      ]
    },
    {
      "cell_type": "code",
      "metadata": {
        "id": "9hjX2pp9HB8e"
      },
      "source": [
        "rdd_joined = rdd_atheism.union(rdd_baseball)"
      ],
      "execution_count": 7,
      "outputs": []
    },
    {
      "cell_type": "markdown",
      "metadata": {
        "id": "djRbzPuZ1bN6"
      },
      "source": [
        "### g. Transformer le nouveau RDD obtenu pour que chaque élément soit de type pyspark.sql.Row"
      ]
    },
    {
      "cell_type": "code",
      "metadata": {
        "id": "P6DwN19DVnPv"
      },
      "source": [
        "t = rdd_joined.collect()[1001]\n",
        "\n",
        "def to_Row(t):\n",
        "  return Row(Key= t[0], Category= t[1], From= t[2], Message_ID= t[3], Subject= t[4], \n",
        "             Organization= t[5], References= t[6], Date= t[7], Sender= t[8], \n",
        "             Reply_To= t[9], Body= t[10])\n",
        "\n",
        "test = rdd_joined.map(to_Row)"
      ],
      "execution_count": 8,
      "outputs": []
    },
    {
      "cell_type": "markdown",
      "metadata": {
        "id": "5i6x-wUm1q-M"
      },
      "source": [
        "### h. Créer un objet de type DataFrame à partir du RDD précédent"
      ]
    },
    {
      "cell_type": "code",
      "metadata": {
        "id": "0GmkflePbF9G"
      },
      "source": [
        "df = spark.createDataFrame(test)"
      ],
      "execution_count": 9,
      "outputs": []
    },
    {
      "cell_type": "markdown",
      "metadata": {
        "id": "iCll-UX2A63P"
      },
      "source": [
        "Visualiser le DataFrame"
      ]
    },
    {
      "cell_type": "code",
      "metadata": {
        "id": "HTe5XjZFb4Jd",
        "colab": {
          "base_uri": "https://localhost:8080/"
        },
        "outputId": "2b1d9e3f-8d9e-4623-fa42-4a292318f4ef"
      },
      "source": [
        "df.show(5)"
      ],
      "execution_count": 10,
      "outputs": [
        {
          "output_type": "stream",
          "text": [
            "+-----+-----------+--------------------+--------------------+--------------------+--------------------+--------------------+--------------------+--------------------+--------------------+--------------------+\n",
            "|  Key|   Category|                From|          Message_ID|             Subject|        Organization|          References|                Date|              Sender|            Reply_To|                Body|\n",
            "+-----+-----------+--------------------+--------------------+--------------------+--------------------+--------------------+--------------------+--------------------+--------------------+--------------------+\n",
            "|54259|alt.atheism|Alan.Olsen@p17.f4...|<735424748.AA0043...|        Albert Sabin|                    |                    |Wed, 21 Apr 1993 ...|postmaster@theros...|                    |BR> From: wpr@atl...|\n",
            "|54165|alt.atheism|halat@pooh.bears ...|<30137@ursa.bear....|Re: The nonexista...|                    |<1pibs8$170@usene...|16 Apr 93 21:25:2...|       news@bear.com|halat@pooh.bears ...|>>Atheists are no...|\n",
            "|54257|alt.atheism|mangoe@cs.umd.edu...|<66833@mimsy.umd....|Re: A Little Too ...|                    |<1r2kcp$6e1@fido....|23 Apr 93 02:43:0...|  news@mimsy.umd.edu|                    | >So when they to...|\n",
            "|53273|alt.atheism|Nanci Ann Miller ...|<Efp2BzS00VpdINpw...|Re: The Universe ...|Sponsored account...|<C5Fuo2.FF8@news....|Tue, 20 Apr 1993 ...|                    |                    |>         I wonde...|\n",
            "|53120|alt.atheism|            (Rashid)|<1993Apr15.212943...|Re: Yet more Rush...|                  NH|<1pvn7c$679@fido....|Thu, 15 Apr 1993 ...|news@bnr.ca (usenet)|                    |darice@yoyo.cc.mo...|\n",
            "+-----+-----------+--------------------+--------------------+--------------------+--------------------+--------------------+--------------------+--------------------+--------------------+--------------------+\n",
            "only showing top 5 rows\n",
            "\n"
          ],
          "name": "stdout"
        }
      ]
    },
    {
      "cell_type": "markdown",
      "metadata": {
        "id": "USz-go8p1z66"
      },
      "source": [
        "### i, j Sauvegarder la DataFrame au format Avro/Parquet"
      ]
    },
    {
      "cell_type": "code",
      "metadata": {
        "id": "laQYduPBdT7-"
      },
      "source": [
        "df.write.parquet('data_parquet.parquet')\n",
        "df.write.format(\"avro\").save(\"data_avro.avro\")"
      ],
      "execution_count": 11,
      "outputs": []
    },
    {
      "cell_type": "markdown",
      "metadata": {
        "id": "fQIORDZmeZuq"
      },
      "source": [
        "# 4. Analyse descriptive"
      ]
    },
    {
      "cell_type": "markdown",
      "metadata": {
        "id": "1XaiyrD25UFI"
      },
      "source": [
        "### a. Vérifier qu’on a bien deux catégories différentes de documents"
      ]
    },
    {
      "cell_type": "code",
      "metadata": {
        "colab": {
          "base_uri": "https://localhost:8080/"
        },
        "id": "TL2_X_c7suJR",
        "outputId": "6d1771b6-0d87-4100-b7d6-20af211c6047"
      },
      "source": [
        "df.groupby('Category').count().show()"
      ],
      "execution_count": 12,
      "outputs": [
        {
          "output_type": "stream",
          "text": [
            "+------------------+-----+\n",
            "|          Category|count|\n",
            "+------------------+-----+\n",
            "|rec.sport.baseball| 1000|\n",
            "|       alt.atheism| 1000|\n",
            "+------------------+-----+\n",
            "\n"
          ],
          "name": "stdout"
        }
      ]
    },
    {
      "cell_type": "markdown",
      "metadata": {
        "id": "8M6uFyWu5Zhj"
      },
      "source": [
        "### b. Donner le nombre d’organisations différentes"
      ]
    },
    {
      "cell_type": "code",
      "metadata": {
        "id": "MMlV6PyfsVeJ",
        "colab": {
          "base_uri": "https://localhost:8080/"
        },
        "outputId": "92c521f7-c802-45dc-ecbb-a4606f2612bd"
      },
      "source": [
        "df.select(df.Organization).distinct().count()"
      ],
      "execution_count": 13,
      "outputs": [
        {
          "output_type": "execute_result",
          "data": {
            "text/plain": [
              "485"
            ]
          },
          "metadata": {
            "tags": []
          },
          "execution_count": 13
        }
      ]
    },
    {
      "cell_type": "markdown",
      "metadata": {
        "id": "i_W_2FiX5hFs"
      },
      "source": [
        "### c. Suivant les champs extraits, donner d’autres statistiques descriptives"
      ]
    },
    {
      "cell_type": "markdown",
      "metadata": {
        "id": "6blv9OdNTAm5"
      },
      "source": [
        "### Les organisations"
      ]
    },
    {
      "cell_type": "code",
      "metadata": {
        "colab": {
          "base_uri": "https://localhost:8080/"
        },
        "id": "cSgfszAr2ffg",
        "outputId": "6a219fc5-261f-436c-8ab2-9b4ed6c326ec"
      },
      "source": [
        "df.select(df.Organization).distinct().take(5)"
      ],
      "execution_count": 18,
      "outputs": [
        {
          "output_type": "execute_result",
          "data": {
            "text/plain": [
              "[Row(Organization='University of Wales College of Cardiff, Cardiff, WALES, UK.'),\n",
              " Row(Organization='Brownian Motion Inc.'),\n",
              " Row(Organization='University of New Hampshire  -  Durham, NH'),\n",
              " Row(Organization='Brotherhood Of Breath'),\n",
              " Row(Organization='Yale University Computer Science Dept., New Haven, CT 06520-2158')]"
            ]
          },
          "metadata": {
            "tags": []
          },
          "execution_count": 18
        }
      ]
    },
    {
      "cell_type": "markdown",
      "metadata": {
        "id": "szWoqX0FSNic"
      },
      "source": [
        "### WordCloud\n",
        "\n",
        "Le graphique nuage de mots, WordCloud en anglais, permet de visualiser des données textuelles. Les valeurs de texte sont aﬃchées selon une taille basée sur l’importance ou encore le contexte. La ﬁgure suivante montre le WordCloud des données 20newsgroups."
      ]
    },
    {
      "cell_type": "code",
      "metadata": {
        "id": "7l310q4XfbHA",
        "colab": {
          "base_uri": "https://localhost:8080/",
          "height": 215
        },
        "outputId": "0a542a4b-ee67-4635-abe9-e4a6c45ab3c7"
      },
      "source": [
        "from wordcloud import WordCloud, STOPWORDS, ImageColorGenerator\n",
        "import matplotlib.pyplot as plt\n",
        "\n",
        "df_res_pandas = df.toPandas()\n",
        "text = df_res_pandas['Body']\n",
        "del df_res_pandas\n",
        "\n",
        "stopwords = set(STOPWORDS)\n",
        "stopwords.add(\"https\")\n",
        "stopwords.add(\"xa0\")\n",
        "stopwords.add(\"xa0'\")\n",
        "stopwords.add(\"bitly\")\n",
        "stopwords.add(\"bit\")\n",
        "stopwords.add(\"ly\")\n",
        "stopwords.add(\"twitter\")\n",
        "stopwords.add(\"pic\")\n",
        "\n",
        "wordcloud = WordCloud(\n",
        "    background_color = 'black',\n",
        "    width = 500,\n",
        "    height = 250,\n",
        "    stopwords = stopwords).generate(str(text))\n",
        "\n",
        "plt.imshow(wordcloud, interpolation=\"bilinear\")\n",
        "plt.axis(\"off\")"
      ],
      "execution_count": 19,
      "outputs": [
        {
          "output_type": "execute_result",
          "data": {
            "text/plain": [
              "(-0.5, 499.5, 249.5, -0.5)"
            ]
          },
          "metadata": {
            "tags": []
          },
          "execution_count": 19
        },
        {
          "output_type": "display_data",
          "data": {
            "image/png": "[encoded data removed]",
            "text/plain": [
              "<Figure size 432x288 with 1 Axes>"
            ]
          },
          "metadata": {
            "tags": [],
            "needs_background": "light"
          }
        }
      ]
    },
    {
      "cell_type": "markdown",
      "metadata": {
        "id": "Xr8k9f2_SYWd"
      },
      "source": [
        "### Les plus grands émetteurs de mails "
      ]
    },
    {
      "cell_type": "code",
      "metadata": {
        "colab": {
          "base_uri": "https://localhost:8080/"
        },
        "id": "HLEaiwn4s9hU",
        "outputId": "c1aa4e01-0ffd-490c-c4f0-f57e3fc002b2"
      },
      "source": [
        "df.groupby('From').count().orderBy('count', ascending=False).show(10)"
      ],
      "execution_count": 20,
      "outputs": [
        {
          "output_type": "stream",
          "text": [
            "+--------------------+-----+\n",
            "|                From|count|\n",
            "+--------------------+-----+\n",
            "|livesey@solntze.w...|   70|\n",
            "|keith@cco.caltech...|   56|\n",
            "|kmr4@po.CWRU.edu ...|   42|\n",
            "|frank@D012S658.uu...|   41|\n",
            "|mathew <mathew@ma...|   38|\n",
            "|I3150101@dbstu1.r...|   35|\n",
            "|bil@okcforum.osrh...|   32|\n",
            "|tedward@cs.cornel...|   25|\n",
            "|sandvik@newton.ap...|   25|\n",
            "|bobbe@vice.ICO.TE...|   24|\n",
            "+--------------------+-----+\n",
            "only showing top 10 rows\n",
            "\n"
          ],
          "name": "stdout"
        }
      ]
    },
    {
      "cell_type": "markdown",
      "metadata": {
        "id": "rPTBvzFutcYc"
      },
      "source": [
        "## 5. Transformation du texte et clustering"
      ]
    },
    {
      "cell_type": "markdown",
      "metadata": {
        "id": "wziJjbFC3BNI"
      },
      "source": [
        "Cette étape consiste à nettoyer les données, car ces données textuelles ont pour particularité d’être non structurées, et souvent l’information cherchée est perdue au milieu d’une grande quantité d’information. Il y a d’assez faibles chances pour que deux textes même lorsqu’ils expriment le même message, soient rédigés exactement avec les mêmes mots dans le même ordre. En eﬀet, les données textuelles sont souvent bruitées (fautes de frappe), ambiguës (synonymie, polysémie) et d’une grande dimension.\n",
        "\n",
        "Pour pallier ce problème, une série de traitements a été appliquée aﬁn de nettoyer les données :\n",
        "\n",
        "- **tokenisation** et transformation de l’ensemble du texte en **lettres minuscules**\n",
        "- retrait des **mots vides** (stopwords) et des **caractères spéciaux** (les ponctuations, les parenthèses, les chiﬀres, etc.)\n",
        "- application de la fonction **HashingTF** : HashingTF est un transformateur qui prend des séries de termes et convertit ces ensembles en Vecteurs de caractéristiques de longueur fixe."
      ]
    },
    {
      "cell_type": "code",
      "metadata": {
        "id": "uotC8sPg-Q7L"
      },
      "source": [
        "import re\n",
        "import string\n",
        "from itertools import chain\n",
        "\n",
        "def clean_text_step_1(word:str)->str:\n",
        "\n",
        "    \"\"\"\n",
        "    Cette fonction permet de nettoyer le text : Mettre le texte en minuscules, supprimer le texte entre parenthèses, \n",
        "    supprimer la ponctuation et les mots contenant des chiffres.\n",
        "    \"\"\"\n",
        "\n",
        "    word = word.lower()\n",
        "    word = re.sub('\\[.*?\\]', '', word)\n",
        "    word = re.sub('[%s]' % re.escape(string.punctuation), '', word)\n",
        "    word = re.sub('\\w*\\d\\w*', '', word)\n",
        "    word = re.sub('>', '', word)\n",
        "    word = re.sub('|>', '', word)\n",
        "    word = word.strip()\n",
        "    return word\n",
        "\n",
        "def clean_text_step_2(word:str)->str:\n",
        "    \"\"\" \n",
        "    Cette fonction permet de complèter la fonction clean_text_step_1()\n",
        "    \"\"\"\n",
        "    word = clean_text_step_1(word)\n",
        "    word = re.sub('[‘’“”…]', '', word)\n",
        "    word = re.sub('\\n', '', word)\n",
        "    word = word.strip()\n",
        "    \n",
        "    return word"
      ],
      "execution_count": 21,
      "outputs": []
    },
    {
      "cell_type": "code",
      "metadata": {
        "id": "NwxDshGGtJKx"
      },
      "source": [
        "%%capture\n",
        "\n",
        "from pyspark.ml.feature import HashingTF, Tokenizer, StopWordsRemover\n",
        "import nltk\n",
        "from nltk.corpus import stopwords, wordnet\n",
        "\n",
        "nltk.download('stopwords')\n",
        "nltk_stopwords = list(set(stopwords.words(\"english\")))\n",
        "\n",
        "df_pandas = df.toPandas()\n",
        "df_pandas.Body = df_pandas.Body.apply(lambda x: \" \".join(clean_text_step_2(word) for word in x.split() if len(word) > 3))\n",
        "df = spark.createDataFrame(df_pandas)\n",
        "\n",
        "# Appliquer la tokenisation\n",
        "tokenizer = Tokenizer(inputCol='Body', outputCol='words_token')\n",
        "df_words_token = tokenizer.transform(df).select('Key', 'words_token', 'Category')\n",
        "     \n",
        "# Retirer les stopwords\n",
        "remover = StopWordsRemover(stopWords = nltk_stopwords, inputCol='words_token', outputCol='words_clean')\n",
        "df_words_no_stopw = remover.transform(df_words_token).select('Key', 'words_clean', 'Category')\n",
        "\n",
        "# Appliquer HashingTF\n",
        "hashingTF = HashingTF(inputCol='words_clean', outputCol=\"features\").setNumFeatures(2000)\n",
        "df_words = hashingTF.transform(df_words_no_stopw)"
      ],
      "execution_count": 22,
      "outputs": []
    },
    {
      "cell_type": "code",
      "metadata": {
        "colab": {
          "base_uri": "https://localhost:8080/"
        },
        "id": "KO0lzT-ew8WH",
        "outputId": "83914210-1de8-4a74-e0b2-3c16dc5ff637"
      },
      "source": [
        "df_words.show(5)"
      ],
      "execution_count": 23,
      "outputs": [
        {
          "output_type": "stream",
          "text": [
            "+-----+--------------------+-----------+--------------------+\n",
            "|  Key|         words_clean|   Category|            features|\n",
            "+-----+--------------------+-----------+--------------------+\n",
            "|54259|[wpratlantadgcom,...|alt.atheism|(2000,[2,54,60,69...|\n",
            "|54165|[atheists, mentio...|alt.atheism|(2000,[152,293,29...|\n",
            "|54257|[took, time, copy...|alt.atheism|(2000,[7,23,37,79...|\n",
            "|53273|[wonder, universe...|alt.atheism|(2000,[2,28,80,99...|\n",
            "|53120|[dariceyoyoccmona...|alt.atheism|(2000,[57,59,74,7...|\n",
            "+-----+--------------------+-----------+--------------------+\n",
            "only showing top 5 rows\n",
            "\n"
          ],
          "name": "stdout"
        }
      ]
    },
    {
      "cell_type": "markdown",
      "metadata": {
        "id": "58HFA6xu4Psc"
      },
      "source": [
        "## KMeans avec pyspark"
      ]
    },
    {
      "cell_type": "code",
      "metadata": {
        "id": "2mumO_nLylcI"
      },
      "source": [
        "from pyspark.ml.clustering import KMeans\n",
        "from pyspark.ml.evaluation import ClusteringEvaluator\n",
        "\n",
        "from random import seed\n",
        "seed(2021)\n",
        "\n",
        "# Entraîner le modèle\n",
        "kmeans = KMeans().setK(2).setSeed(1).setFeaturesCol('features')\n",
        "model = kmeans.fit(df_words)\n",
        "\n",
        "# Predictions\n",
        "predictions = model.transform(df_words)"
      ],
      "execution_count": 24,
      "outputs": []
    },
    {
      "cell_type": "code",
      "metadata": {
        "id": "obrRKZjfH7rX"
      },
      "source": [
        "transformed = model.transform(df_words).select('Key', 'prediction')\n",
        "rows = transformed.collect()\n",
        "df_pred = spark.createDataFrame(rows)\n",
        "kmeans_spark = [int(row.prediction) for row in df_pred.select(\"prediction\").collect()]"
      ],
      "execution_count": 25,
      "outputs": []
    },
    {
      "cell_type": "markdown",
      "metadata": {
        "id": "Kj38cuCtUWTT"
      },
      "source": [
        "## kmeans avec scikit-learn"
      ]
    },
    {
      "cell_type": "code",
      "metadata": {
        "id": "i1zIfvOvIDSW"
      },
      "source": [
        "%%capture\n",
        "from textblob import Word\n",
        "nltk.download('wordnet')\n",
        "\n",
        "# Preprocessing\n",
        "df_pandas.Body = df_pandas.Body.apply(lambda x: \" \".join(x for x in x.split() if x not in nltk_stopwords))\n",
        "df_pandas.Body = df_pandas.Body.apply(lambda x: \" \".join(Word(word).lemmatize() for word in x.split()))\n",
        "\n",
        "# données et labels\n",
        "data = df_pandas.Body\n",
        "label = df_pandas.Category.astype('category').cat.codes"
      ],
      "execution_count": 26,
      "outputs": []
    },
    {
      "cell_type": "code",
      "metadata": {
        "id": "K1SecqugNVvh"
      },
      "source": [
        "from sklearn.feature_extraction.text import CountVectorizer\n",
        "from sklearn.feature_extraction.text import TfidfTransformer\n",
        "from sklearn.cluster import KMeans\n",
        "import numpy as np\n",
        "\n",
        "seed(2021)\n",
        "\n",
        "# Créer un objet CountVectorizer avec un nombre max de 2000 features\n",
        "count_vect = CountVectorizer(max_features=2000)\n",
        "\n",
        "# Appliquer une pondération tfidf\n",
        "tfidf_transformer = TfidfTransformer()\n",
        "\n",
        "# Création de la matrice doc_termes\n",
        "X_train_counts = count_vect.fit_transform(data)\n",
        "X_train_tfidf = tfidf_transformer.fit_transform(X_train_counts)\n",
        "\n",
        "# Appliquation de KMeans avec un nombre de clusters égale à 2\n",
        "kmeans = KMeans(n_clusters=2, random_state=2).fit(X_train_tfidf)\n",
        "y_kmeans = kmeans.predict(X_train_tfidf)"
      ],
      "execution_count": 27,
      "outputs": []
    },
    {
      "cell_type": "markdown",
      "metadata": {
        "id": "-OJy53os57Wp"
      },
      "source": [
        "## Analyse de résultats\n",
        "\n",
        "Nous avons cherché à améliorer les performances en faisant varier les paramètres de chaque modèle.\n",
        "\n",
        "L'information mutuelle normalisée (**NMI**) permet de mesurer la quantité d’information d’une partition contenue dans une seconde partition. Ainsi, lorsque cette mesure entre deux partitions est au maximum, elles sont identiques, i.e. très corrélées. Cette mesure est indépendante des valeurs des labels : une permutation des valeurs ne changera en rien la valeur du score. \n",
        "\n",
        "On constate que l'implémentation scikit-learn de kmeans fait beaucoup mieux (NMI égale à 0.8) que celle de pyspark(NMI proche de 0). On remarque aussi que les groupes formés sont beaucoup plus équilibrés par rapport à ceux de pyspark.\n"
      ]
    },
    {
      "cell_type": "code",
      "metadata": {
        "colab": {
          "base_uri": "https://localhost:8080/"
        },
        "id": "1Iu7DJHj6Fp-",
        "outputId": "f8f2f8d9-ee25-4875-abf6-45142b38b4b8"
      },
      "source": [
        "df_pred.groupby('prediction').count().show()"
      ],
      "execution_count": 28,
      "outputs": [
        {
          "output_type": "stream",
          "text": [
            "+----------+-----+\n",
            "|prediction|count|\n",
            "+----------+-----+\n",
            "|         0| 1997|\n",
            "|         1|    3|\n",
            "+----------+-----+\n",
            "\n"
          ],
          "name": "stdout"
        }
      ]
    },
    {
      "cell_type": "code",
      "metadata": {
        "colab": {
          "base_uri": "https://localhost:8080/"
        },
        "id": "nIlhCIm3PIgI",
        "outputId": "a80e67a0-a91e-4d94-fc89-848bd087db6e"
      },
      "source": [
        "np.unique(y_kmeans, return_counts=True)"
      ],
      "execution_count": 29,
      "outputs": [
        {
          "output_type": "execute_result",
          "data": {
            "text/plain": [
              "(array([0, 1], dtype=int32), array([ 967, 1033]))"
            ]
          },
          "metadata": {
            "tags": []
          },
          "execution_count": 29
        }
      ]
    },
    {
      "cell_type": "code",
      "metadata": {
        "colab": {
          "base_uri": "https://localhost:8080/"
        },
        "id": "nd6f28BJP6IW",
        "outputId": "508456c7-847c-47f7-967c-fc131d98d51c"
      },
      "source": [
        "from sklearn.metrics import normalized_mutual_info_score, adjusted_mutual_info_score \n",
        "print(f\"NMI de kmeans-sklearn  {normalized_mutual_info_score(label, y_kmeans)}\")"
      ],
      "execution_count": 30,
      "outputs": [
        {
          "output_type": "stream",
          "text": [
            "NMI de kmeans-sklearn  0.8044301842938406\n"
          ],
          "name": "stdout"
        }
      ]
    },
    {
      "cell_type": "code",
      "metadata": {
        "colab": {
          "base_uri": "https://localhost:8080/"
        },
        "id": "krmdjT830sV9",
        "outputId": "4b3a65d5-bc2e-4247-d35a-6939cdb9feec"
      },
      "source": [
        "print(f\"NMI de kmeans-spark  {normalized_mutual_info_score(label, kmeans_spark)}\")"
      ],
      "execution_count": 31,
      "outputs": [
        {
          "output_type": "stream",
          "text": [
            "NMI de kmeans-spark  0.002955276020780368\n"
          ],
          "name": "stdout"
        }
      ]
    },
    {
      "cell_type": "markdown",
      "metadata": {
        "id": "O9jbv72eeWGz"
      },
      "source": [
        "## 5. Implémentation de K-means unidimensionnel\n",
        "\n",
        "**K-means** est un algorithme non supervisé de clustering non-hiérarchique. Il permet de regrouper en *K* clusters distincts les observations du jeu de données. Ainsi, les données similaires se retrouveront donc dans le même cluster. Par ailleurs, une observation ne peut se retrouver que dans un cluster à la fois (exclusivité d’appartenance). Une même observation, ne pourra donc, appartenir à deux clusters différents.\n",
        "\n",
        "**Principe de kmeans** : on tire aléatoirement *k* points qui forment les centres initiaux des classes, puis on va répéter jusqu’à convergence, i.e si le critère de l’inertie intra-classe ne décroit pas d’une manière significative) : \n",
        "- affecter chaque point à la classe dont il est le plus proche du centre de gravité (en prenant la distance euclidienne comme mesure)\n",
        "\n",
        "- recalculer les centres de gravité\n",
        "\n",
        "\n",
        "Pour un nombre donné de cluster K et un ensemble de N vecteurs xi tel que : \n",
        "\n",
        "$$\n",
        "xi,i∈[1,N]\n",
        "$$\n",
        "K-means a pour objectif de minimiser le critère suivant :\n",
        "\n",
        "$$\n",
        "W(z,\\mu) = \\sum_{k = 1}^{K} \\sum_{i = 1}^{N} z_{ik} \\| x_i - \\mu_k\\|^2\n",
        "$$\n",
        "\n",
        "En prenant en compte la distance euclidienne (au carré):\n",
        "\n",
        " $$d^2\\left( x, \\mu\\right)   = {\\sum _{i=1}^{P}  \\left( x_{i} - \\mu_{i}\\right)^2 } $$"
      ]
    },
    {
      "cell_type": "markdown",
      "metadata": {
        "id": "wuaN2OYkW7ZF"
      },
      "source": [
        "### Les fonctions que nous avons implémentées"
      ]
    },
    {
      "cell_type": "code",
      "metadata": {
        "id": "xYKRp43ZlWhT"
      },
      "source": [
        "def avg(rdd)->tuple:\n",
        "    \"\"\"\n",
        "    Une fonction qui permet de calculer le centre de gravité de chaque cluster\n",
        "    \"\"\"\n",
        "\n",
        "    cluster_id = rdd[0][0]\n",
        "    average = rdd[0][1]/rdd[1][1]\n",
        "\n",
        "    return cluster_id , average\n",
        "\n",
        "\n",
        "def compute_centroids(points, clusters_ids):\n",
        "    \"\"\"\n",
        "    Cette fonction retourne un RDD de couples (cluster_id, moyenne)\n",
        "    \"\"\"\n",
        "    \n",
        "    # Appliquer la fonction zip() \n",
        "    zipped_rdd = clusters_ids.zip(points)\n",
        "\n",
        "    # calculer la moyenne de chaque cluster\n",
        "    sum_by_cluster_id = zipped_rdd.groupByKey().mapValues(sum)\n",
        "    count_by_cluster_id = zipped_rdd.groupByKey().mapValues(len)\n",
        "    sum_and_count = sum_by_cluster_id.zip(count_by_cluster_id)\n",
        "    average = sum_and_count.map(avg)\n",
        "        \n",
        "    return average\n",
        "\n",
        "\n",
        "def assign_clusters(points, centroids):\n",
        "    \"\"\"\n",
        "    Une fonction qui permet d'affecter chaque point au cluster dont il est le plus proche du centre de gravité\n",
        "    En se basant sur la distance euclidienne\n",
        "    \"\"\"\n",
        "\n",
        "    liste_of_centroids = centroids.collect()\n",
        "    assignments = points.map(lambda x: squared_distances(x, liste_of_centroids)).map(np.argmin)\n",
        "    \n",
        "    return assignments\n",
        "\n",
        "\n",
        "def squared_distances(p, liste_of_centroids)->list:\n",
        "    \"\"\"\n",
        "    Une fonction qui permet de calculer la distance euclidienne\n",
        "    \"\"\"\n",
        "    dist = [np.square(p - i[1]) for i in liste_of_centroids]\n",
        "    \n",
        "    return dist"
      ],
      "execution_count": 32,
      "outputs": []
    },
    {
      "cell_type": "markdown",
      "metadata": {
        "id": "wOv5TvfbJnnt"
      },
      "source": [
        "## Tester le modèle"
      ]
    },
    {
      "cell_type": "code",
      "metadata": {
        "id": "Zt71uNptGvo6"
      },
      "source": [
        "%%capture\n",
        "from sklearn.datasets.samples_generator import make_blobs\n",
        "\n",
        "# Générer un data set avec 5 classes\n",
        "X, reel_clusters = make_blobs(n_samples=400, centers=5,\n",
        "                       cluster_std=0.60, random_state=0)\n",
        "\n",
        "# Préparer les données d'entraînement \n",
        "points = X[:, 1] \n",
        "clusters_ids = np.random.randint(0, 5, 400)\n",
        "\n",
        "# Création des RDD\n",
        "clusters_ids = sc.parallelize(clusters_ids)\n",
        "points = sc.parallelize(points)"
      ],
      "execution_count": 33,
      "outputs": []
    },
    {
      "cell_type": "code",
      "metadata": {
        "id": "ZiSk4hUh1g5_",
        "colab": {
          "base_uri": "https://localhost:8080/"
        },
        "outputId": "bc514fbb-c732-406a-c5b4-222e572567bc"
      },
      "source": [
        "# Tester le modèle avec un nombre d'itération égale à 30\n",
        "for i in range(30):\n",
        "  \n",
        "  # Affecter chaque point \n",
        "  centroids = compute_centroids(points, clusters_ids)\n",
        "  \n",
        "  # Recalculer les centres\n",
        "  clusters_ids = assign_clusters(points, centroids)\n",
        "\n",
        "# Calculer la NMI\n",
        "normalized_mutual_info_score(reel_clusters, clusters_ids.collect())"
      ],
      "execution_count": 34,
      "outputs": [
        {
          "output_type": "execute_result",
          "data": {
            "text/plain": [
              "0.8743311654759407"
            ]
          },
          "metadata": {
            "tags": []
          },
          "execution_count": 34
        }
      ]
    },
    {
      "cell_type": "markdown",
      "metadata": {
        "id": "tQYfAksVKpd6"
      },
      "source": [
        "## Implémentation de K-means multidimensionnel"
      ]
    },
    {
      "cell_type": "markdown",
      "metadata": {
        "id": "8KztIGzTXdUq"
      },
      "source": [
        "### Mettre à jour les fonctions *squared_distances()* et *assign_clusters()* afin de prendre en compte le cas multidimensionnel"
      ]
    },
    {
      "cell_type": "code",
      "metadata": {
        "id": "6mWFW7uV5bcI"
      },
      "source": [
        "def squared_distances_multi(point, liste_of_centroids)->list:\n",
        "    \"\"\"\n",
        "    Une fonction qui permet de calculer la distance euclidienne dans le cas multidimensionnel\n",
        "    \"\"\"\n",
        "    dist = [np.square(np.linalg.norm(point - i[1])) for i in liste_of_centroids]\n",
        "\n",
        "    return dist\n",
        "\n",
        "\n",
        "def assign_clusters_multi(points, centroids):\n",
        "    \"\"\"\n",
        "    Une fonction qui permet d'affecter chaque point au cluster dont il est le plus proche du centre de gravité, \n",
        "    dans le cas multidimensionnel. En se basant sur la distance euclidienne\n",
        "    \"\"\"\n",
        "    liste_of_centroids = centroids.collect()\n",
        "    assignments = points.map(lambda x: squared_distances_multi(x, liste_of_centroids)).map(np.argmin)\n",
        "    \n",
        "    return assignments"
      ],
      "execution_count": 35,
      "outputs": []
    },
    {
      "cell_type": "markdown",
      "metadata": {
        "id": "SZwXMw42GQB8"
      },
      "source": [
        "## Tester le version multidimensionnelle de Kmeans "
      ]
    },
    {
      "cell_type": "code",
      "metadata": {
        "id": "H44Wt7wtMHEN",
        "colab": {
          "base_uri": "https://localhost:8080/"
        },
        "outputId": "736f9da4-3265-4ffe-d9f5-c361f31dcdf5"
      },
      "source": [
        "from sklearn.datasets.samples_generator import make_blobs\n",
        "points, reel_clusters = make_blobs(n_samples=400, centers=5,\n",
        "                       cluster_std=0.60, random_state=0)\n",
        "\n",
        "clusters_ids = np.random.randint(0, 5, 400)\n",
        "clusters_ids = sc.parallelize(clusters_ids)\n",
        "points = sc.parallelize(points)\n",
        "\n",
        "for i in range(30):\n",
        "  centroids = compute_centroids(points, clusters_ids)\n",
        "  clusters_ids = assign_clusters_multi(points, centroids)\n",
        "\n",
        "\n",
        "normalized_mutual_info_score(reel_clusters, clusters_ids.collect())"
      ],
      "execution_count": 36,
      "outputs": [
        {
          "output_type": "execute_result",
          "data": {
            "text/plain": [
              "0.8972495397346943"
            ]
          },
          "metadata": {
            "tags": []
          },
          "execution_count": 36
        }
      ]
    },
    {
      "cell_type": "markdown",
      "metadata": {
        "id": "6YLaGZFjMxZn"
      },
      "source": [
        "## 6. Implémentation de Spherical k-means\n",
        "\n",
        "Le **Spherical k-means** se base essentiellemnt sur **la similarité cosinus**, cette dernière permet de calculer la similarité entre deux vecteurs à N dimensions en déterminant le cosinus de l'angle entre eux. \n",
        "\n",
        "$$cos\\left( A, B\\right) = \\frac{ A \\cdot B}{\\|A\\| \\|B\\|} $$\n",
        "\n",
        "Comme la valeur de *cosinus* est comprise dans l'intervalle [-1,1], la valeur -1 indiquera des vecteurs résolument opposés, 0 des vecteurs indépendants (orthogonaux) et 1 des vecteurs similaires (colinéaires de coefficient positif). Les valeurs intermédiaires permettent d'évaluer le degré de similarité.\n",
        "\n",
        "\n"
      ]
    },
    {
      "cell_type": "markdown",
      "metadata": {
        "id": "x6FMN-IsiRX5"
      },
      "source": [
        "### Mettre à jour la fonction *assign_clusters_multi()* et implémentation de la fonction *cosine_similarity()*"
      ]
    },
    {
      "cell_type": "code",
      "metadata": {
        "id": "NeWUpc9YMVWb"
      },
      "source": [
        "from numpy import dot\n",
        "from numpy.linalg import norm\n",
        "\n",
        "\n",
        "def assign_clusters_spherical(points, centroids):\n",
        "    \"\"\"\n",
        "    Une fonction qui permet d'affecter chaque point au cluster dont il est le plus proche du centre de gravité, \n",
        "    dans le cas multidimensionnel. En se basant sur la similarité cosinus\n",
        "    \"\"\"\n",
        "    list_of_centroids = centroids.collect()\n",
        "    assignments = points.map(lambda point: cosine_similarity(point, list_of_centroids)).map(np.argmax)\n",
        "    \n",
        "    return assignments\n",
        "\n",
        "\n",
        "def cosine_similarity(p, l)->list:\n",
        "    \"\"\"\n",
        "    Une fonction qui permet de calculer la distance cosinus entre 2 vecteurs\n",
        "    \"\"\"\n",
        "    dist = [dot(p, i[1])/(norm(p) * norm(i[1])) for i in l]\n",
        "    \n",
        "    return dist"
      ],
      "execution_count": 37,
      "outputs": []
    },
    {
      "cell_type": "markdown",
      "metadata": {
        "id": "RARp0gdKjBso"
      },
      "source": [
        "## Tester le modèle avec les données 20newsgroups"
      ]
    },
    {
      "cell_type": "code",
      "metadata": {
        "id": "4Dy9ssF2aia9"
      },
      "source": [
        "from random import seed\n",
        "seed(2021)\n",
        "points = X_train_counts.toarray()\n",
        "points = sc.parallelize(points)\n",
        "clusters_ids = np.random.randint(0, 2, 2000)\n",
        "clusters_ids = sc.parallelize(label)"
      ],
      "execution_count": 38,
      "outputs": []
    },
    {
      "cell_type": "code",
      "metadata": {
        "id": "PiUdpDUDNTNU"
      },
      "source": [
        "for i in range(10):\n",
        "    centroids = compute_centroids(points, clusters_ids)\n",
        "    clusters_ids = assign_clusters_spherical(points, centroids)"
      ],
      "execution_count": 39,
      "outputs": []
    },
    {
      "cell_type": "code",
      "metadata": {
        "colab": {
          "base_uri": "https://localhost:8080/"
        },
        "id": "TPJM3wn3NYAr",
        "outputId": "99a1d98a-58ec-4148-d3ef-d0713c54eee0"
      },
      "source": [
        "print(f\"NMI : {normalized_mutual_info_score(label, clusters_ids.collect())}\")"
      ],
      "execution_count": 40,
      "outputs": [
        {
          "output_type": "stream",
          "text": [
            "NMI : 0.6797975201544831\n"
          ],
          "name": "stdout"
        }
      ]
    },
    {
      "cell_type": "markdown",
      "metadata": {
        "id": "g1tNT6ZKjwgC"
      },
      "source": [
        "## Comparer notre implémentation avec celle de coclust"
      ]
    },
    {
      "cell_type": "markdown",
      "metadata": {
        "id": "x76ZiizmkHyk"
      },
      "source": [
        "Installer la package coclust"
      ]
    },
    {
      "cell_type": "code",
      "metadata": {
        "id": "9kN_v4cikFQb"
      },
      "source": [
        "%%capture\n",
        "!pip install coclust"
      ],
      "execution_count": 41,
      "outputs": []
    },
    {
      "cell_type": "markdown",
      "metadata": {
        "id": "vNSLD_F7kSrI"
      },
      "source": [
        "Entrainer le modèle"
      ]
    },
    {
      "cell_type": "code",
      "metadata": {
        "id": "OBU49fRIVqqt"
      },
      "source": [
        "%%capture\n",
        "from random import seed\n",
        "seed(2021)\n",
        "from coclust.clustering.spherical_kmeans import SphericalKmeans\n",
        "\n",
        "model = SphericalKmeans(n_clusters=2, max_iter=50, random_state=2021)\n",
        "model.fit(X_train_counts)\n",
        "\n",
        "predicted_row_labels = model.row_labels_"
      ],
      "execution_count": 42,
      "outputs": []
    },
    {
      "cell_type": "code",
      "metadata": {
        "colab": {
          "base_uri": "https://localhost:8080/"
        },
        "id": "0zUmOEfAkD22",
        "outputId": "9b857d21-76c4-402f-99bd-620baac9b119"
      },
      "source": [
        "print(f\"NMI : {normalized_mutual_info_score(predicted_row_labels, label)}\")"
      ],
      "execution_count": 43,
      "outputs": [
        {
          "output_type": "stream",
          "text": [
            "NMI : 0.8114571801465591\n"
          ],
          "name": "stdout"
        }
      ]
    },
    {
      "cell_type": "markdown",
      "metadata": {
        "id": "tY4uQ30Kkgaq"
      },
      "source": [
        "En évaluant les performances de chaque modèle sur le data set initial. On constate que l'implémentation de coclust fait mieux (NMI égale à 0.81) que notre implémentation (NMi égale à 0.68), et si on se base sur les métriques classiques comme le taux d'erreur par exemple, il ne semble pas y avoir une grosse différence de performances entre les deux modèles (3% vs 6%)."
      ]
    },
    {
      "cell_type": "code",
      "metadata": {
        "colab": {
          "base_uri": "https://localhost:8080/"
        },
        "id": "qU2JAGuHn_Wo",
        "outputId": "f319dab9-4c6f-42cc-c404-5bbe3a13501f"
      },
      "source": [
        "from sklearn.metrics import confusion_matrix\n",
        "\n",
        "cm_spherical_coclust = confusion_matrix(predicted_row_labels, label)\n",
        "\n",
        "def swap(matrix_row, x, y):\n",
        "      \"\"\"\n",
        "      Une fonction qui permet de faire une permutation de valeurs dans une matrice de confusion\n",
        "      \"\"\"\n",
        "      index_Y = np.where(matrix_row == y)\n",
        "      val_X = matrix_row[x]\n",
        "      matrix_row[x] = y\n",
        "      matrix_row[index_Y] = val_X\n",
        "      \n",
        "      return matrix_row\n",
        "\n",
        "def reorder_mat(mat):\n",
        "    \"\"\"\n",
        "    Une fonction qui permet de réarranger une matrice de confusion\n",
        "    Elle ne marche que dans le cas binaire (matrice de dim 2X2)\n",
        "    \"\"\"\n",
        "    for i in range(mat.shape[0]):\n",
        "        row_I = mat[i,]\n",
        "        y = max(row_I)\n",
        "        mat[i,] = swap(row_I, i, y)\n",
        "    \n",
        "    return (mat)\n",
        "\n",
        "cm_spherical_coclust = reorder_mat(cm_spherical_coclust)\n",
        "accuracy = np.trace(cm_spherical_coclust) / np.sum(cm_spherical_coclust)\n",
        "print(\"Taux d'erreur (coclust) : {0:.0%}\".format(1 - accuracy))"
      ],
      "execution_count": 44,
      "outputs": [
        {
          "output_type": "stream",
          "text": [
            "Taux d'erreur (coclust) : 3%\n"
          ],
          "name": "stdout"
        }
      ]
    },
    {
      "cell_type": "code",
      "metadata": {
        "colab": {
          "base_uri": "https://localhost:8080/"
        },
        "id": "9npGosA8oPln",
        "outputId": "2db9696d-4d60-43cb-a14c-5346d522dea6"
      },
      "source": [
        "cm_spherical = confusion_matrix(label, clusters_ids.collect())\n",
        "cm_spherical = reorder_mat(cm_spherical)\n",
        "accuracy = np.trace(cm_spherical) / np.sum(cm_spherical)\n",
        "print(\"Taux d'erreur (de notre implémentation) : {0:.0%}\".format(1 - accuracy))"
      ],
      "execution_count": 45,
      "outputs": [
        {
          "output_type": "stream",
          "text": [
            "Taux d'erreur (de notre implémentation) : 6%\n"
          ],
          "name": "stdout"
        }
      ]
    },
    {
      "cell_type": "markdown",
      "metadata": {
        "id": "MRIiVIEWJ0Sj"
      },
      "source": [
        "## 7. Autres classifications"
      ]
    },
    {
      "cell_type": "markdown",
      "metadata": {
        "id": "NrWET2p4nEVQ"
      },
      "source": [
        "## Classification non supervisée\n"
      ]
    },
    {
      "cell_type": "markdown",
      "metadata": {
        "id": "-WD4ytAJMIfX"
      },
      "source": [
        "### LDA"
      ]
    },
    {
      "cell_type": "markdown",
      "metadata": {
        "id": "H88GwDxKJofL"
      },
      "source": [
        "Le modèle **Latent Dirichlet Allocation** (LDA) est un modèle probabiliste génératif qui permet de décrire des collections de documents de texte. Ce modèle fait partie d’une catégorie de modèles appelés **topic models**, qui cherchent à découvrir des structures thématiques cachées dans une collection de documents."
      ]
    },
    {
      "cell_type": "code",
      "metadata": {
        "colab": {
          "base_uri": "https://localhost:8080/"
        },
        "id": "7Xbis26Io3Su",
        "outputId": "943cf253-456f-4335-9a2a-1900479036b5"
      },
      "source": [
        "from pyspark.ml.clustering import LDA\n",
        "\n",
        "# Entrainr un modèle LDA avec 2 k = 2\n",
        "lda = LDA(k=2, maxIter=10).setSeed(2021).setFeaturesCol('features')\n",
        "model = lda.fit(df_words)\n",
        "\n",
        "# Décrire les topics\n",
        "topics = model.describeTopics(3)\n",
        "print(\"The topics described by their top-weighted terms:\")\n",
        "topics.show(truncate=False)\n",
        "\n",
        "# Afficher le result\n",
        "transformed = model.transform(df_words)"
      ],
      "execution_count": 46,
      "outputs": [
        {
          "output_type": "stream",
          "text": [
            "The topics described by their top-weighted terms:\n",
            "+-----+----------------+-----------------------------------------------------------------+\n",
            "|topic|termIndices     |termWeights                                                      |\n",
            "+-----+----------------+-----------------------------------------------------------------+\n",
            "|0    |[911, 1372, 157]|[0.008692852144602867, 0.00849649136449359, 0.00720234016123637] |\n",
            "|1    |[1372, 911, 157]|[0.07423722688124325, 0.006827680241927799, 0.006470560291382963]|\n",
            "+-----+----------------+-----------------------------------------------------------------+\n",
            "\n"
          ],
          "name": "stdout"
        }
      ]
    },
    {
      "cell_type": "markdown",
      "metadata": {
        "id": "dP7gEjoCL_TM"
      },
      "source": [
        "### Bisecting KMeans"
      ]
    },
    {
      "cell_type": "markdown",
      "metadata": {
        "id": "KLVdSCbKK2i0"
      },
      "source": [
        "Le **Bisecting KMeans** est une approche hybride qui combine le Clustering hiérarchique descendant avec le Clustering K-means. Au lieu de partitionner l'ensemble de données en K groupes à chaque itération, cet algorithme divise chaque groupe en deux sous-groupes en utilisant k-means jusqu'à l'obtention de k groupes.\n"
      ]
    },
    {
      "cell_type": "code",
      "metadata": {
        "id": "SeXlQk9iqEOd"
      },
      "source": [
        "from pyspark.ml.clustering import BisectingKMeans\n",
        "\n",
        "bkm = BisectingKMeans().setK(2).setSeed(1).setFeaturesCol('features')\n",
        "model = bkm.fit(df_words)\n",
        "\n",
        "# Prédictions\n",
        "predictions = model.transform(df_words)"
      ],
      "execution_count": 47,
      "outputs": []
    },
    {
      "cell_type": "code",
      "metadata": {
        "colab": {
          "base_uri": "https://localhost:8080/"
        },
        "id": "Warbf-Z7qmwF",
        "outputId": "555120ea-bc02-43c5-ce90-5cae030db645"
      },
      "source": [
        "transformed = model.transform(df_words).select('Key', 'prediction')\n",
        "rows = transformed.collect()\n",
        "\n",
        "df_pred = spark.createDataFrame(rows)\n",
        "df_pred.groupby('prediction').count().show()"
      ],
      "execution_count": 48,
      "outputs": [
        {
          "output_type": "stream",
          "text": [
            "+----------+-----+\n",
            "|prediction|count|\n",
            "+----------+-----+\n",
            "|         0| 1997|\n",
            "|         1|    3|\n",
            "+----------+-----+\n",
            "\n"
          ],
          "name": "stdout"
        }
      ]
    },
    {
      "cell_type": "markdown",
      "metadata": {
        "id": "_19fSUc9kzJF"
      },
      "source": [
        "## Comparaison de résultat"
      ]
    },
    {
      "cell_type": "markdown",
      "metadata": {
        "id": "zOPHMMGuTH3y"
      },
      "source": [
        "On peut facilement remarquer que BisectingKMeans ne fait pas mieux que la version standard de Kmeans déjà implémentée dans pyspark, on remarque aussi que les classes formées sont déséquilibrées."
      ]
    },
    {
      "cell_type": "markdown",
      "metadata": {
        "id": "raxOoaQlutY2"
      },
      "source": [
        "## Classification supervisée\n",
        "\n",
        "### Random Forest"
      ]
    },
    {
      "cell_type": "markdown",
      "metadata": {
        "id": "B6lKSIZ9L4TK"
      },
      "source": [
        "Le **random forest** est un algorithme qui se base sur l’assemblage d’arbres de décision. Il est assez intuitif à comprendre, rapide à entraîner et il produit des résultats généralisables.\n",
        "\n",
        "Un random forest est constitué d'un ensemble d'arbres de décision indépendants. Chaque arbre dispose d'une vision parcellaire du problème du fait d'un double tirage aléatoire :\n",
        "\n",
        "- un tirage aléatoire **avec remplacement** sur les observations (les lignes de votre base de données). Ce processus s'appelle le **tree bagging**,\n",
        "- un tirage aléatoire sur les variables (les colonnes de votre base de données). Ce processus s'appelle le **feature sampling**.\n",
        "\n",
        "A la fin, tous ces arbres de décisions indépendants sont assemblés. La prédiction faite par le random forest pour des données inconnues est alors la moyenne (ou le vote, dans le cas d'un problème de classification) de tous les arbres.\n",
        "\n",
        "\n"
      ]
    },
    {
      "cell_type": "code",
      "metadata": {
        "colab": {
          "base_uri": "https://localhost:8080/"
        },
        "id": "Bx70stfE7P9m",
        "outputId": "09534188-bcb1-47c0-f707-ae6bdc97cc50"
      },
      "source": [
        "from pyspark.ml import Pipeline\n",
        "from pyspark.ml.classification import RandomForestClassifier\n",
        "from pyspark.ml.feature import IndexToString, StringIndexer, VectorIndexer\n",
        "from pyspark.ml.evaluation import MulticlassClassificationEvaluator\n",
        "\n",
        "data = df_words.withColumnRenamed('Category', 'label')\n",
        "data = StringIndexer(inputCol=\"label\", outputCol=\"indexedLabel\").fit(data).transform(data)\n",
        "\n",
        "# Diviser les données en 2 ensembles : apprentissage et test\n",
        "(trainingData, testData) = data.randomSplit([0.7, 0.3])\n",
        "\n",
        "featureIndexer =\\\n",
        "    VectorIndexer(inputCol=\"features\", outputCol=\"indexedFeatures\", maxCategories=4).fit(data)\n",
        "\n",
        "# Entraîner le modèle\n",
        "rf = RandomForestClassifier(labelCol=\"indexedLabel\", featuresCol=\"features\", numTrees=100)\n",
        "\n",
        "pipeline = Pipeline(stages=[featureIndexer, rf])\n",
        "\n",
        "model = pipeline.fit(trainingData)\n",
        "\n",
        "# Prédictions.\n",
        "predictions = model.transform(testData)\n",
        "\n",
        "# Calculer le taux d'erreur\n",
        "evaluator = MulticlassClassificationEvaluator(\n",
        "    labelCol=\"indexedLabel\", predictionCol=\"prediction\", metricName=\"accuracy\")\n",
        "accuracy = evaluator.evaluate(predictions)\n",
        "print(\"Test Error = %g\" % (1.0 - accuracy))"
      ],
      "execution_count": 49,
      "outputs": [
        {
          "output_type": "stream",
          "text": [
            "Test Error = 0.0779661\n"
          ],
          "name": "stdout"
        }
      ]
    },
    {
      "cell_type": "markdown",
      "metadata": {
        "id": "l5ZPzCg6KiOl"
      },
      "source": [
        "### Gradient Boosting"
      ]
    },
    {
      "cell_type": "markdown",
      "metadata": {
        "id": "7LhnHWHbMskB"
      },
      "source": [
        "Le **BOOSTING** est une technique ensembliste qui consiste à agréger des modèles élaborés séquentiellement sur un échantillon d’apprentissage dont les poids des individus sont corrigés au fur et à mesure. Les classifieurs sont pondérés selon leurs performances.\n",
        "\n",
        "**Le gradient boosting** utilise le gradient de la fonction de perte pour le calcul des poids des individus lors de la construction de chaque nouveau modèle. Cela ressemble un peu à la descente de gradient pour les réseaux de neurones.\n",
        "\n",
        "GBM utilise généralement des arbres CART et on peut personnaliser l’algorithme en utilisant différents paramètres, différentes fonctions.\n",
        "\n",
        "\n",
        "\n"
      ]
    },
    {
      "cell_type": "code",
      "metadata": {
        "colab": {
          "base_uri": "https://localhost:8080/"
        },
        "id": "N-EW2uqLAiif",
        "outputId": "3c8190e8-56ee-4e11-86e7-e008d6f83694"
      },
      "source": [
        "from pyspark.ml import Pipeline\n",
        "from pyspark.ml.classification import GBTClassifier\n",
        "from pyspark.ml.feature import StringIndexer, VectorIndexer\n",
        "from pyspark.ml.evaluation import MulticlassClassificationEvaluator\n",
        "\n",
        "(trainingData, testData) = data.randomSplit([0.7, 0.3])\n",
        "\n",
        "gbt = GBTClassifier(labelCol=\"indexedLabel\", featuresCol=\"features\", maxIter=100, minInstancesPerNode=10)\n",
        "\n",
        "pipeline = Pipeline(stages=[featureIndexer, gbt])\n",
        "\n",
        "model = pipeline.fit(trainingData)\n",
        "\n",
        "predictions = model.transform(testData)\n",
        "\n",
        "evaluator = MulticlassClassificationEvaluator(\n",
        "    labelCol=\"indexedLabel\", predictionCol=\"prediction\", metricName=\"accuracy\")\n",
        "accuracy = evaluator.evaluate(predictions)\n",
        "print(\"Test Error = %g\" % (1.0 - accuracy))"
      ],
      "execution_count": 50,
      "outputs": [
        {
          "output_type": "stream",
          "text": [
            "Test Error = 0.067474\n"
          ],
          "name": "stdout"
        }
      ]
    },
    {
      "cell_type": "markdown",
      "metadata": {
        "id": "_1_-Sh7SL4Nk"
      },
      "source": [
        "### SVM"
      ]
    },
    {
      "cell_type": "markdown",
      "metadata": {
        "id": "siDfywP6N5vp"
      },
      "source": [
        "Les **Support Vector Machines** (SVM) sont une famille d’algorithmes d‘apprentissage supervisé permettant de résoudre des problèmes de classification et de régression. Leur principe est simple : ils ont pour but de séparer les données en classes (dans un problème de classification bien sûr) à l’aide d’une frontière aussi simple que possible, de telle façon que la distance entre les différents groupes de données et la frontière qui les sépare soit maximale."
      ]
    },
    {
      "cell_type": "code",
      "metadata": {
        "colab": {
          "base_uri": "https://localhost:8080/"
        },
        "id": "KUUBXwSJB8yF",
        "outputId": "23acd8de-abf9-4f01-f9b8-c244111fd635"
      },
      "source": [
        "from pyspark.ml.classification import LinearSVC\n",
        "seed(2021)\n",
        "training = StringIndexer(inputCol=\"Category\", outputCol=\"label\").fit(df_words).transform(df_words)\n",
        "lsvc = LinearSVC(maxIter=20, regParam=0.1)\n",
        "(trainingData, testData) = training.randomSplit([0.7, 0.3])\n",
        "lsvcModel = lsvc.fit(trainingData)\n",
        "predictions = lsvcModel.transform(testData)\n",
        "y_predicted = np.array([int(row.prediction) for row in predictions.select(\"prediction\").collect()])\n",
        "y_reel = np.array([int(row.label) for row in testData.select(\"label\").collect()])\n",
        "accuracy = sum(y_reel == y_predicted)/len(y_predicted)\n",
        "print(\"Test Error = %g\" % (1.0 - accuracy))"
      ],
      "execution_count": 51,
      "outputs": [
        {
          "output_type": "stream",
          "text": [
            "Test Error = 0.0474576\n"
          ],
          "name": "stdout"
        }
      ]
    },
    {
      "cell_type": "markdown",
      "metadata": {
        "id": "6KQB-zW_OpQP"
      },
      "source": [
        "## Comparaison de résultats"
      ]
    },
    {
      "cell_type": "markdown",
      "metadata": {
        "id": "O7jgZNw9Oxwl"
      },
      "source": [
        "Les résultats illustrés par démontrent la performance de modèle **SVM** dans la classiﬁcation de données, avec un taux d’erreur de 5%. Cependant, **Spherical-Kmeans** obtient un meilleur taux d'erreur (3%), et apparaît donc comme le meilleurs classiﬁeur (malgré le fait qu'il s'agit d'un algorithme de Clustering).\n",
        "\n"
      ]
    },
    {
      "cell_type": "code",
      "metadata": {
        "id": "QaakxPE7-5S8"
      },
      "source": [
        ""
      ],
      "execution_count": null,
      "outputs": []
    }
  ]
}